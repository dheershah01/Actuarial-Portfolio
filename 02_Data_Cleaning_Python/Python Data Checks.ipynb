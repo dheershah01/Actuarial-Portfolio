{
 "cells": [
  {
   "cell_type": "code",
   "execution_count": 3,
   "id": "45c25803-fa8a-409b-955b-cd72f9783577",
   "metadata": {},
   "outputs": [],
   "source": [
    "# Import libraries\n",
    "import pandas as pd\n",
    "import matplotlib as plt\n",
    "\n",
    "# Load csv file\n",
    "df = pd.read_csv(\"raw data.csv\")"
   ]
  },
  {
   "cell_type": "code",
   "execution_count": 4,
   "id": "2198651e-e92d-4f0d-a024-14404dc0d3a2",
   "metadata": {},
   "outputs": [],
   "source": [
    "#Converting to correct type\n",
    "# Converting to correct type\n",
    "df['Gross Amount'] = pd.to_numeric(df['Gross Amount'], errors='coerce')\n",
    "df['Net Amount'] = pd.to_numeric(df['Net Amount'], errors='coerce')\n",
    "df['Reinsurance'] = pd.to_numeric(df['Reinsurance'], errors='coerce')\n",
    "\n",
    "date_cols = ['D.O.L', 'D.O.I', 'D.O.P', 'Start', 'Expiry']\n",
    "for col in date_cols:\n",
    "    df[col] = pd.to_datetime(df[col], errors='coerce', dayfirst=True)\n",
    "\n",
    "today = pd.Timestamp.today()"
   ]
  },
  {
   "cell_type": "code",
   "execution_count": 5,
   "id": "c63c624b-435e-4841-944d-e125e152cffc",
   "metadata": {},
   "outputs": [
    {
     "name": "stdout",
     "output_type": "stream",
     "text": [
      "<class 'pandas.core.frame.DataFrame'>\n",
      "RangeIndex: 4604 entries, 0 to 4603\n",
      "Data columns (total 21 columns):\n",
      " #   Column             Non-Null Count  Dtype         \n",
      "---  ------             --------------  -----         \n",
      " 0   Claim No           4604 non-null   object        \n",
      " 1   Policy No          4604 non-null   object        \n",
      " 2   Underwriting Year  4603 non-null   float64       \n",
      " 3   Insured            4604 non-null   object        \n",
      " 4   Intermediary       4604 non-null   object        \n",
      " 5   Class              4604 non-null   object        \n",
      " 6   Class Code         4604 non-null   int64         \n",
      " 7   Sub Class          4604 non-null   object        \n",
      " 8   Sub Class Code     4604 non-null   int64         \n",
      " 9   Nature Of Loss     4604 non-null   object        \n",
      " 10  D.O.L              4604 non-null   datetime64[ns]\n",
      " 11  D.O.I              4604 non-null   datetime64[ns]\n",
      " 12  D.O.P              4604 non-null   datetime64[ns]\n",
      " 13  Start              4604 non-null   datetime64[ns]\n",
      " 14  Expiry             4604 non-null   datetime64[ns]\n",
      " 15  Indemnity Amount   4604 non-null   int64         \n",
      " 16  Recoveries Amount  4604 non-null   int64         \n",
      " 17  Handling Expense   4604 non-null   int64         \n",
      " 18  Gross Amount       4572 non-null   float64       \n",
      " 19  Reinsurance        4604 non-null   float64       \n",
      " 20  Net Amount         4604 non-null   float64       \n",
      "dtypes: datetime64[ns](5), float64(4), int64(5), object(7)\n",
      "memory usage: 755.5+ KB\n"
     ]
    }
   ],
   "source": [
    "#Dataframe info\n",
    "df.info()"
   ]
  },
  {
   "cell_type": "code",
   "execution_count": 6,
   "id": "fed2bedd-1427-4b7f-be57-765ac8406bd7",
   "metadata": {
    "scrolled": true
   },
   "outputs": [
    {
     "data": {
      "text/html": [
       "<div>\n",
       "<style scoped>\n",
       "    .dataframe tbody tr th:only-of-type {\n",
       "        vertical-align: middle;\n",
       "    }\n",
       "\n",
       "    .dataframe tbody tr th {\n",
       "        vertical-align: top;\n",
       "    }\n",
       "\n",
       "    .dataframe thead th {\n",
       "        text-align: right;\n",
       "    }\n",
       "</style>\n",
       "<table border=\"1\" class=\"dataframe\">\n",
       "  <thead>\n",
       "    <tr style=\"text-align: right;\">\n",
       "      <th></th>\n",
       "      <th>Underwriting Year</th>\n",
       "      <th>Class Code</th>\n",
       "      <th>Sub Class Code</th>\n",
       "      <th>D.O.L</th>\n",
       "      <th>D.O.I</th>\n",
       "      <th>D.O.P</th>\n",
       "      <th>Start</th>\n",
       "      <th>Expiry</th>\n",
       "      <th>Indemnity Amount</th>\n",
       "      <th>Recoveries Amount</th>\n",
       "      <th>Handling Expense</th>\n",
       "      <th>Gross Amount</th>\n",
       "      <th>Reinsurance</th>\n",
       "      <th>Net Amount</th>\n",
       "    </tr>\n",
       "  </thead>\n",
       "  <tbody>\n",
       "    <tr>\n",
       "      <th>count</th>\n",
       "      <td>4603.000000</td>\n",
       "      <td>4604.000000</td>\n",
       "      <td>4604.000000</td>\n",
       "      <td>4604</td>\n",
       "      <td>4604</td>\n",
       "      <td>4604</td>\n",
       "      <td>4604</td>\n",
       "      <td>4604</td>\n",
       "      <td>4.604000e+03</td>\n",
       "      <td>4.604000e+03</td>\n",
       "      <td>4.604000e+03</td>\n",
       "      <td>4.572000e+03</td>\n",
       "      <td>4.604000e+03</td>\n",
       "      <td>4.604000e+03</td>\n",
       "    </tr>\n",
       "    <tr>\n",
       "      <th>mean</th>\n",
       "      <td>2023.439279</td>\n",
       "      <td>64.397698</td>\n",
       "      <td>644.750000</td>\n",
       "      <td>2024-04-15 22:48:41.285838592</td>\n",
       "      <td>2024-05-09 13:26:38.262380544</td>\n",
       "      <td>2025-04-04 05:40:17.723718656</td>\n",
       "      <td>2023-11-10 08:33:53.014769664</td>\n",
       "      <td>2024-10-05 17:15:16.420503808</td>\n",
       "      <td>1.581895e+05</td>\n",
       "      <td>-8.174389e+03</td>\n",
       "      <td>6.597306e+04</td>\n",
       "      <td>1.602462e+05</td>\n",
       "      <td>7.592460e+04</td>\n",
       "      <td>1.400636e+05</td>\n",
       "    </tr>\n",
       "    <tr>\n",
       "      <th>min</th>\n",
       "      <td>2006.000000</td>\n",
       "      <td>2.000000</td>\n",
       "      <td>20.000000</td>\n",
       "      <td>2006-12-14 00:00:00</td>\n",
       "      <td>2007-01-02 00:00:00</td>\n",
       "      <td>2025-01-02 00:00:00</td>\n",
       "      <td>2006-01-19 00:00:00</td>\n",
       "      <td>2007-01-18 00:00:00</td>\n",
       "      <td>-3.000000e+06</td>\n",
       "      <td>-7.957784e+06</td>\n",
       "      <td>-3.546990e+07</td>\n",
       "      <td>-3.546990e+07</td>\n",
       "      <td>-1.800000e+05</td>\n",
       "      <td>-3.546990e+07</td>\n",
       "    </tr>\n",
       "    <tr>\n",
       "      <th>25%</th>\n",
       "      <td>2023.000000</td>\n",
       "      <td>70.000000</td>\n",
       "      <td>700.000000</td>\n",
       "      <td>2024-04-22 00:00:00</td>\n",
       "      <td>2024-05-05 18:00:00</td>\n",
       "      <td>2025-02-19 00:00:00</td>\n",
       "      <td>2023-10-26 18:00:00</td>\n",
       "      <td>2024-10-01 00:00:00</td>\n",
       "      <td>0.000000e+00</td>\n",
       "      <td>0.000000e+00</td>\n",
       "      <td>0.000000e+00</td>\n",
       "      <td>6.830000e+03</td>\n",
       "      <td>0.000000e+00</td>\n",
       "      <td>6.650000e+03</td>\n",
       "    </tr>\n",
       "    <tr>\n",
       "      <th>50%</th>\n",
       "      <td>2024.000000</td>\n",
       "      <td>70.000000</td>\n",
       "      <td>700.000000</td>\n",
       "      <td>2024-10-22 00:00:00</td>\n",
       "      <td>2024-10-31 00:00:00</td>\n",
       "      <td>2025-04-09 00:00:00</td>\n",
       "      <td>2024-04-02 00:00:00</td>\n",
       "      <td>2025-03-03 00:00:00</td>\n",
       "      <td>0.000000e+00</td>\n",
       "      <td>0.000000e+00</td>\n",
       "      <td>6.380000e+03</td>\n",
       "      <td>2.784150e+04</td>\n",
       "      <td>0.000000e+00</td>\n",
       "      <td>2.605000e+04</td>\n",
       "    </tr>\n",
       "    <tr>\n",
       "      <th>75%</th>\n",
       "      <td>2024.000000</td>\n",
       "      <td>70.000000</td>\n",
       "      <td>700.000000</td>\n",
       "      <td>2025-01-05 00:00:00</td>\n",
       "      <td>2025-01-15 00:00:00</td>\n",
       "      <td>2025-05-09 00:00:00</td>\n",
       "      <td>2024-09-04 00:00:00</td>\n",
       "      <td>2025-07-18 00:00:00</td>\n",
       "      <td>1.600000e+04</td>\n",
       "      <td>0.000000e+00</td>\n",
       "      <td>3.170000e+04</td>\n",
       "      <td>1.399320e+05</td>\n",
       "      <td>0.000000e+00</td>\n",
       "      <td>1.312900e+05</td>\n",
       "    </tr>\n",
       "    <tr>\n",
       "      <th>max</th>\n",
       "      <td>2025.000000</td>\n",
       "      <td>80.000000</td>\n",
       "      <td>813.000000</td>\n",
       "      <td>2025-06-23 00:00:00</td>\n",
       "      <td>2025-06-27 00:00:00</td>\n",
       "      <td>2025-06-30 00:00:00</td>\n",
       "      <td>2025-05-07 00:00:00</td>\n",
       "      <td>2027-07-31 00:00:00</td>\n",
       "      <td>7.000000e+07</td>\n",
       "      <td>5.000000e+05</td>\n",
       "      <td>3.546990e+07</td>\n",
       "      <td>3.546990e+07</td>\n",
       "      <td>6.600000e+07</td>\n",
       "      <td>3.546990e+07</td>\n",
       "    </tr>\n",
       "    <tr>\n",
       "      <th>std</th>\n",
       "      <td>1.723233</td>\n",
       "      <td>21.747453</td>\n",
       "      <td>217.393622</td>\n",
       "      <td>NaN</td>\n",
       "      <td>NaN</td>\n",
       "      <td>NaN</td>\n",
       "      <td>NaN</td>\n",
       "      <td>NaN</td>\n",
       "      <td>1.558912e+06</td>\n",
       "      <td>1.282141e+05</td>\n",
       "      <td>7.921606e+05</td>\n",
       "      <td>9.554040e+05</td>\n",
       "      <td>1.463593e+06</td>\n",
       "      <td>8.355824e+05</td>\n",
       "    </tr>\n",
       "  </tbody>\n",
       "</table>\n",
       "</div>"
      ],
      "text/plain": [
       "       Underwriting Year   Class Code  Sub Class Code  \\\n",
       "count        4603.000000  4604.000000     4604.000000   \n",
       "mean         2023.439279    64.397698      644.750000   \n",
       "min          2006.000000     2.000000       20.000000   \n",
       "25%          2023.000000    70.000000      700.000000   \n",
       "50%          2024.000000    70.000000      700.000000   \n",
       "75%          2024.000000    70.000000      700.000000   \n",
       "max          2025.000000    80.000000      813.000000   \n",
       "std             1.723233    21.747453      217.393622   \n",
       "\n",
       "                               D.O.L                          D.O.I  \\\n",
       "count                           4604                           4604   \n",
       "mean   2024-04-15 22:48:41.285838592  2024-05-09 13:26:38.262380544   \n",
       "min              2006-12-14 00:00:00            2007-01-02 00:00:00   \n",
       "25%              2024-04-22 00:00:00            2024-05-05 18:00:00   \n",
       "50%              2024-10-22 00:00:00            2024-10-31 00:00:00   \n",
       "75%              2025-01-05 00:00:00            2025-01-15 00:00:00   \n",
       "max              2025-06-23 00:00:00            2025-06-27 00:00:00   \n",
       "std                              NaN                            NaN   \n",
       "\n",
       "                               D.O.P                          Start  \\\n",
       "count                           4604                           4604   \n",
       "mean   2025-04-04 05:40:17.723718656  2023-11-10 08:33:53.014769664   \n",
       "min              2025-01-02 00:00:00            2006-01-19 00:00:00   \n",
       "25%              2025-02-19 00:00:00            2023-10-26 18:00:00   \n",
       "50%              2025-04-09 00:00:00            2024-04-02 00:00:00   \n",
       "75%              2025-05-09 00:00:00            2024-09-04 00:00:00   \n",
       "max              2025-06-30 00:00:00            2025-05-07 00:00:00   \n",
       "std                              NaN                            NaN   \n",
       "\n",
       "                              Expiry  Indemnity Amount  Recoveries Amount  \\\n",
       "count                           4604      4.604000e+03       4.604000e+03   \n",
       "mean   2024-10-05 17:15:16.420503808      1.581895e+05      -8.174389e+03   \n",
       "min              2007-01-18 00:00:00     -3.000000e+06      -7.957784e+06   \n",
       "25%              2024-10-01 00:00:00      0.000000e+00       0.000000e+00   \n",
       "50%              2025-03-03 00:00:00      0.000000e+00       0.000000e+00   \n",
       "75%              2025-07-18 00:00:00      1.600000e+04       0.000000e+00   \n",
       "max              2027-07-31 00:00:00      7.000000e+07       5.000000e+05   \n",
       "std                              NaN      1.558912e+06       1.282141e+05   \n",
       "\n",
       "       Handling Expense  Gross Amount   Reinsurance    Net Amount  \n",
       "count      4.604000e+03  4.572000e+03  4.604000e+03  4.604000e+03  \n",
       "mean       6.597306e+04  1.602462e+05  7.592460e+04  1.400636e+05  \n",
       "min       -3.546990e+07 -3.546990e+07 -1.800000e+05 -3.546990e+07  \n",
       "25%        0.000000e+00  6.830000e+03  0.000000e+00  6.650000e+03  \n",
       "50%        6.380000e+03  2.784150e+04  0.000000e+00  2.605000e+04  \n",
       "75%        3.170000e+04  1.399320e+05  0.000000e+00  1.312900e+05  \n",
       "max        3.546990e+07  3.546990e+07  6.600000e+07  3.546990e+07  \n",
       "std        7.921606e+05  9.554040e+05  1.463593e+06  8.355824e+05  "
      ]
     },
     "execution_count": 6,
     "metadata": {},
     "output_type": "execute_result"
    }
   ],
   "source": [
    "#Summary Statistics\n",
    "df.describe()"
   ]
  },
  {
   "cell_type": "code",
   "execution_count": 7,
   "id": "692c0357-ee5a-43f7-8464-e59fa76037b9",
   "metadata": {},
   "outputs": [
    {
     "data": {
      "text/plain": [
       "(4604, 21)"
      ]
     },
     "execution_count": 7,
     "metadata": {},
     "output_type": "execute_result"
    }
   ],
   "source": [
    "#Size of Dataset\n",
    "df.shape"
   ]
  },
  {
   "cell_type": "code",
   "execution_count": 8,
   "id": "f3067715-fefc-4e7c-8e6f-8cdb4558cfbf",
   "metadata": {},
   "outputs": [
    {
     "data": {
      "text/plain": [
       "np.int64(0)"
      ]
     },
     "execution_count": 8,
     "metadata": {},
     "output_type": "execute_result"
    }
   ],
   "source": [
    "#Num of duplicated rows\n",
    "df.duplicated().sum()"
   ]
  },
  {
   "cell_type": "code",
   "execution_count": 9,
   "id": "8e062b73-53b0-40ee-8af5-1d1b3ecd837e",
   "metadata": {},
   "outputs": [],
   "source": [
    "#Data Cleaning\n",
    "\n",
    "#Completeness check\n",
    "for col in ['Claim No', 'Policy No', 'Class']:\n",
    "    df[f\"{col} Check\"] = [\"OK\" if x else \"CHECK\" for x in df[col].notna()]\n",
    "    \n",
    "#Date reasonability\n",
    "date_ok = []\n",
    "\n",
    "for i, row in df.iterrows():\n",
    "    ok = True\n",
    "\n",
    "    if pd.notna(row['D.O.L']) and pd.notna(row['Start']) and pd.notna(row['Expiry']):\n",
    "        if not (row['Start'] <= row['D.O.L'] <= row['Expiry']):\n",
    "            ok = False\n",
    "\n",
    "    if pd.notna(row['D.O.P']) and pd.notna(row['D.O.L']):\n",
    "        if row['D.O.P'] < row['D.O.L']:\n",
    "            ok = False\n",
    "\n",
    "    for date_col in ['D.O.L', 'D.O.I', 'D.O.P', 'Start', 'Expiry']:\n",
    "        if pd.notna(row[date_col]) and row[date_col] > today:\n",
    "            ok = False\n",
    "    date_ok.append(\"OK\" if ok else \"CHECK\")\n",
    "\n",
    "df['Date Reasonability'] = date_ok\n",
    "\n",
    "#Gross check\n",
    "df['Gross=Net+Reinsurance'] = [\n",
    "    \"OK\" if g == (n + r) else \"CHECK\"\n",
    "    for g, n, r in zip(df['Gross Amount'], df['Net Amount'], df['Reinsurance'])\n",
    "]"
   ]
  },
  {
   "cell_type": "code",
   "execution_count": 10,
   "id": "15cf1da7-b9b1-4116-9341-05b458579885",
   "metadata": {},
   "outputs": [],
   "source": [
    "#converting to csv\n",
    "output_file = \"claims_data_with_checks.csv\"\n",
    "df.to_csv(output_file, index=False)"
   ]
  },
  {
   "cell_type": "code",
   "execution_count": 11,
   "id": "92dc3167-4961-40f9-8b3b-1e2de48be8a0",
   "metadata": {},
   "outputs": [
    {
     "data": {
      "text/plain": [
       "<Axes: ylabel='count'>"
      ]
     },
     "execution_count": 11,
     "metadata": {},
     "output_type": "execute_result"
    },
    {
     "data": {
      "image/png": "[encoded data removed]",
      "text/plain": [
       "<Figure size 640x480 with 1 Axes>"
      ]
     },
     "metadata": {},
     "output_type": "display_data"
    }
   ],
   "source": [
    "# Visualization\n",
    "\n",
    "class_counts = df['Class'].value_counts()\n",
    "\n",
    "# Big 5 classes + others\n",
    "top_classes = class_counts.head(5)\n",
    "top_classes['Others'] = class_counts[5:].sum()\n",
    "\n",
    "top_classes.plot.pie()\n",
    "\n",
    "\n"
   ]
  },
  {
   "cell_type": "code",
   "execution_count": 12,
   "id": "29f789e9-c470-442e-9453-f50721bf83f8",
   "metadata": {},
   "outputs": [
    {
     "data": {
      "image/png": "[encoded data removed]",
      "text/plain": [
       "<Figure size 640x480 with 1 Axes>"
      ]
     },
     "metadata": {},
     "output_type": "display_data"
    }
   ],
   "source": [
    "#Net amount\n",
    "net_amount = df['Net Amount'].value_counts().head(10)\n",
    "ax = net_amount.plot.bar()\n",
    "\n"
   ]
  },
  {
   "cell_type": "code",
   "execution_count": null,
   "id": "0ed8e031-99fe-4b17-b281-cb3b76222588",
   "metadata": {},
   "outputs": [],
   "source": []
  }
 ],
 "metadata": {
  "kernelspec": {
   "display_name": "Python [conda env:base] *",
   "language": "python",
   "name": "conda-base-py"
  },
  "language_info": {
   "codemirror_mode": {
    "name": "ipython",
    "version": 3
   },
   "file_extension": ".py",
   "mimetype": "text/x-python",
   "name": "python",
   "nbconvert_exporter": "python",
   "pygments_lexer": "ipython3",
   "version": "3.13.5"
  }
 },
 "nbformat": 4,
 "nbformat_minor": 5
}
